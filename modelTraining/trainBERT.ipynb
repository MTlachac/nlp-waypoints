{
  "nbformat": 4,
  "nbformat_minor": 0,
  "metadata": {
    "colab": {
      "name": "BERTexperiments.ipynb",
      "provenance": [],
      "collapsed_sections": []
    },
    "kernelspec": {
      "name": "python3",
      "display_name": "Python 3"
    },
    "accelerator": "GPU",
    "widgets": {
      "application/vnd.jupyter.widget-state+json": {
        "de9bd0b623b34e58a4fcd276c9481d7b": {
          "model_module": "@jupyter-widgets/controls",
          "model_name": "HBoxModel",
          "state": {
            "_view_name": "HBoxView",
            "_dom_classes": [],
            "_model_name": "HBoxModel",
            "_view_module": "@jupyter-widgets/controls",
            "_model_module_version": "1.5.0",
            "_view_count": null,
            "_view_module_version": "1.5.0",
            "box_style": "",
            "layout": "IPY_MODEL_3b5868e6c08a4b09baedf0a3928a8974",
            "_model_module": "@jupyter-widgets/controls",
            "children": [
              "IPY_MODEL_c61e551952504cc7bce2453e62e95dbd",
              "IPY_MODEL_87b53ca7f04c44a69527cb5f4122cd57"
            ]
          }
        },
        "3b5868e6c08a4b09baedf0a3928a8974": {
          "model_module": "@jupyter-widgets/base",
          "model_name": "LayoutModel",
          "state": {
            "_view_name": "LayoutView",
            "grid_template_rows": null,
            "right": null,
            "justify_content": null,
            "_view_module": "@jupyter-widgets/base",
            "overflow": null,
            "_model_module_version": "1.2.0",
            "_view_count": null,
            "flex_flow": null,
            "width": null,
            "min_width": null,
            "border": null,
            "align_items": null,
            "bottom": null,
            "_model_module": "@jupyter-widgets/base",
            "top": null,
            "grid_column": null,
            "overflow_y": null,
            "overflow_x": null,
            "grid_auto_flow": null,
            "grid_area": null,
            "grid_template_columns": null,
            "flex": null,
            "_model_name": "LayoutModel",
            "justify_items": null,
            "grid_row": null,
            "max_height": null,
            "align_content": null,
            "visibility": null,
            "align_self": null,
            "height": null,
            "min_height": null,
            "padding": null,
            "grid_auto_rows": null,
            "grid_gap": null,
            "max_width": null,
            "order": null,
            "_view_module_version": "1.2.0",
            "grid_template_areas": null,
            "object_position": null,
            "object_fit": null,
            "grid_auto_columns": null,
            "margin": null,
            "display": null,
            "left": null
          }
        },
        "c61e551952504cc7bce2453e62e95dbd": {
          "model_module": "@jupyter-widgets/controls",
          "model_name": "FloatProgressModel",
          "state": {
            "_view_name": "ProgressView",
            "style": "IPY_MODEL_da33cc95e718443aaa7a46424531f824",
            "_dom_classes": [],
            "description": "Downloading: 100%",
            "_model_name": "FloatProgressModel",
            "bar_style": "success",
            "max": 433,
            "_view_module": "@jupyter-widgets/controls",
            "_model_module_version": "1.5.0",
            "value": 433,
            "_view_count": null,
            "_view_module_version": "1.5.0",
            "orientation": "horizontal",
            "min": 0,
            "description_tooltip": null,
            "_model_module": "@jupyter-widgets/controls",
            "layout": "IPY_MODEL_1d78995e3f8b4a61b748a5b2c41a4838"
          }
        },
        "87b53ca7f04c44a69527cb5f4122cd57": {
          "model_module": "@jupyter-widgets/controls",
          "model_name": "HTMLModel",
          "state": {
            "_view_name": "HTMLView",
            "style": "IPY_MODEL_190be7dcc83346b5ac4de38c5fda9247",
            "_dom_classes": [],
            "description": "",
            "_model_name": "HTMLModel",
            "placeholder": "​",
            "_view_module": "@jupyter-widgets/controls",
            "_model_module_version": "1.5.0",
            "value": " 433/433 [00:55&lt;00:00, 7.76B/s]",
            "_view_count": null,
            "_view_module_version": "1.5.0",
            "description_tooltip": null,
            "_model_module": "@jupyter-widgets/controls",
            "layout": "IPY_MODEL_174bcd07e9c24f83baf8e70e728c1507"
          }
        },
        "da33cc95e718443aaa7a46424531f824": {
          "model_module": "@jupyter-widgets/controls",
          "model_name": "ProgressStyleModel",
          "state": {
            "_view_name": "StyleView",
            "_model_name": "ProgressStyleModel",
            "description_width": "initial",
            "_view_module": "@jupyter-widgets/base",
            "_model_module_version": "1.5.0",
            "_view_count": null,
            "_view_module_version": "1.2.0",
            "bar_color": null,
            "_model_module": "@jupyter-widgets/controls"
          }
        },
        "1d78995e3f8b4a61b748a5b2c41a4838": {
          "model_module": "@jupyter-widgets/base",
          "model_name": "LayoutModel",
          "state": {
            "_view_name": "LayoutView",
            "grid_template_rows": null,
            "right": null,
            "justify_content": null,
            "_view_module": "@jupyter-widgets/base",
            "overflow": null,
            "_model_module_version": "1.2.0",
            "_view_count": null,
            "flex_flow": null,
            "width": null,
            "min_width": null,
            "border": null,
            "align_items": null,
            "bottom": null,
            "_model_module": "@jupyter-widgets/base",
            "top": null,
            "grid_column": null,
            "overflow_y": null,
            "overflow_x": null,
            "grid_auto_flow": null,
            "grid_area": null,
            "grid_template_columns": null,
            "flex": null,
            "_model_name": "LayoutModel",
            "justify_items": null,
            "grid_row": null,
            "max_height": null,
            "align_content": null,
            "visibility": null,
            "align_self": null,
            "height": null,
            "min_height": null,
            "padding": null,
            "grid_auto_rows": null,
            "grid_gap": null,
            "max_width": null,
            "order": null,
            "_view_module_version": "1.2.0",
            "grid_template_areas": null,
            "object_position": null,
            "object_fit": null,
            "grid_auto_columns": null,
            "margin": null,
            "display": null,
            "left": null
          }
        },
        "190be7dcc83346b5ac4de38c5fda9247": {
          "model_module": "@jupyter-widgets/controls",
          "model_name": "DescriptionStyleModel",
          "state": {
            "_view_name": "StyleView",
            "_model_name": "DescriptionStyleModel",
            "description_width": "",
            "_view_module": "@jupyter-widgets/base",
            "_model_module_version": "1.5.0",
            "_view_count": null,
            "_view_module_version": "1.2.0",
            "_model_module": "@jupyter-widgets/controls"
          }
        },
        "174bcd07e9c24f83baf8e70e728c1507": {
          "model_module": "@jupyter-widgets/base",
          "model_name": "LayoutModel",
          "state": {
            "_view_name": "LayoutView",
            "grid_template_rows": null,
            "right": null,
            "justify_content": null,
            "_view_module": "@jupyter-widgets/base",
            "overflow": null,
            "_model_module_version": "1.2.0",
            "_view_count": null,
            "flex_flow": null,
            "width": null,
            "min_width": null,
            "border": null,
            "align_items": null,
            "bottom": null,
            "_model_module": "@jupyter-widgets/base",
            "top": null,
            "grid_column": null,
            "overflow_y": null,
            "overflow_x": null,
            "grid_auto_flow": null,
            "grid_area": null,
            "grid_template_columns": null,
            "flex": null,
            "_model_name": "LayoutModel",
            "justify_items": null,
            "grid_row": null,
            "max_height": null,
            "align_content": null,
            "visibility": null,
            "align_self": null,
            "height": null,
            "min_height": null,
            "padding": null,
            "grid_auto_rows": null,
            "grid_gap": null,
            "max_width": null,
            "order": null,
            "_view_module_version": "1.2.0",
            "grid_template_areas": null,
            "object_position": null,
            "object_fit": null,
            "grid_auto_columns": null,
            "margin": null,
            "display": null,
            "left": null
          }
        },
        "d108d340e70847b1bc824fa79a5f70d2": {
          "model_module": "@jupyter-widgets/controls",
          "model_name": "HBoxModel",
          "state": {
            "_view_name": "HBoxView",
            "_dom_classes": [],
            "_model_name": "HBoxModel",
            "_view_module": "@jupyter-widgets/controls",
            "_model_module_version": "1.5.0",
            "_view_count": null,
            "_view_module_version": "1.5.0",
            "box_style": "",
            "layout": "IPY_MODEL_dfbc55568f1b4f09a1c600e29c3df345",
            "_model_module": "@jupyter-widgets/controls",
            "children": [
              "IPY_MODEL_8ff0b92a0fe94925aaec074c40b65ed8",
              "IPY_MODEL_dd9f04b4289242baa19f8795d9467d1c"
            ]
          }
        },
        "dfbc55568f1b4f09a1c600e29c3df345": {
          "model_module": "@jupyter-widgets/base",
          "model_name": "LayoutModel",
          "state": {
            "_view_name": "LayoutView",
            "grid_template_rows": null,
            "right": null,
            "justify_content": null,
            "_view_module": "@jupyter-widgets/base",
            "overflow": null,
            "_model_module_version": "1.2.0",
            "_view_count": null,
            "flex_flow": null,
            "width": null,
            "min_width": null,
            "border": null,
            "align_items": null,
            "bottom": null,
            "_model_module": "@jupyter-widgets/base",
            "top": null,
            "grid_column": null,
            "overflow_y": null,
            "overflow_x": null,
            "grid_auto_flow": null,
            "grid_area": null,
            "grid_template_columns": null,
            "flex": null,
            "_model_name": "LayoutModel",
            "justify_items": null,
            "grid_row": null,
            "max_height": null,
            "align_content": null,
            "visibility": null,
            "align_self": null,
            "height": null,
            "min_height": null,
            "padding": null,
            "grid_auto_rows": null,
            "grid_gap": null,
            "max_width": null,
            "order": null,
            "_view_module_version": "1.2.0",
            "grid_template_areas": null,
            "object_position": null,
            "object_fit": null,
            "grid_auto_columns": null,
            "margin": null,
            "display": null,
            "left": null
          }
        },
        "8ff0b92a0fe94925aaec074c40b65ed8": {
          "model_module": "@jupyter-widgets/controls",
          "model_name": "FloatProgressModel",
          "state": {
            "_view_name": "ProgressView",
            "style": "IPY_MODEL_df20aad6ab934e728aadcbf16e548b3c",
            "_dom_classes": [],
            "description": "Downloading: 100%",
            "_model_name": "FloatProgressModel",
            "bar_style": "success",
            "max": 231508,
            "_view_module": "@jupyter-widgets/controls",
            "_model_module_version": "1.5.0",
            "value": 231508,
            "_view_count": null,
            "_view_module_version": "1.5.0",
            "orientation": "horizontal",
            "min": 0,
            "description_tooltip": null,
            "_model_module": "@jupyter-widgets/controls",
            "layout": "IPY_MODEL_7f58d5fa6efe49c39486a541a04abd17"
          }
        },
        "dd9f04b4289242baa19f8795d9467d1c": {
          "model_module": "@jupyter-widgets/controls",
          "model_name": "HTMLModel",
          "state": {
            "_view_name": "HTMLView",
            "style": "IPY_MODEL_484a8cc31fee4bf0ad5cd3db1bfd2e94",
            "_dom_classes": [],
            "description": "",
            "_model_name": "HTMLModel",
            "placeholder": "​",
            "_view_module": "@jupyter-widgets/controls",
            "_model_module_version": "1.5.0",
            "value": " 232k/232k [00:00&lt;00:00, 582kB/s]",
            "_view_count": null,
            "_view_module_version": "1.5.0",
            "description_tooltip": null,
            "_model_module": "@jupyter-widgets/controls",
            "layout": "IPY_MODEL_2a67a876f8014dab8313e1ff294914cf"
          }
        },
        "df20aad6ab934e728aadcbf16e548b3c": {
          "model_module": "@jupyter-widgets/controls",
          "model_name": "ProgressStyleModel",
          "state": {
            "_view_name": "StyleView",
            "_model_name": "ProgressStyleModel",
            "description_width": "initial",
            "_view_module": "@jupyter-widgets/base",
            "_model_module_version": "1.5.0",
            "_view_count": null,
            "_view_module_version": "1.2.0",
            "bar_color": null,
            "_model_module": "@jupyter-widgets/controls"
          }
        },
        "7f58d5fa6efe49c39486a541a04abd17": {
          "model_module": "@jupyter-widgets/base",
          "model_name": "LayoutModel",
          "state": {
            "_view_name": "LayoutView",
            "grid_template_rows": null,
            "right": null,
            "justify_content": null,
            "_view_module": "@jupyter-widgets/base",
            "overflow": null,
            "_model_module_version": "1.2.0",
            "_view_count": null,
            "flex_flow": null,
            "width": null,
            "min_width": null,
            "border": null,
            "align_items": null,
            "bottom": null,
            "_model_module": "@jupyter-widgets/base",
            "top": null,
            "grid_column": null,
            "overflow_y": null,
            "overflow_x": null,
            "grid_auto_flow": null,
            "grid_area": null,
            "grid_template_columns": null,
            "flex": null,
            "_model_name": "LayoutModel",
            "justify_items": null,
            "grid_row": null,
            "max_height": null,
            "align_content": null,
            "visibility": null,
            "align_self": null,
            "height": null,
            "min_height": null,
            "padding": null,
            "grid_auto_rows": null,
            "grid_gap": null,
            "max_width": null,
            "order": null,
            "_view_module_version": "1.2.0",
            "grid_template_areas": null,
            "object_position": null,
            "object_fit": null,
            "grid_auto_columns": null,
            "margin": null,
            "display": null,
            "left": null
          }
        },
        "484a8cc31fee4bf0ad5cd3db1bfd2e94": {
          "model_module": "@jupyter-widgets/controls",
          "model_name": "DescriptionStyleModel",
          "state": {
            "_view_name": "StyleView",
            "_model_name": "DescriptionStyleModel",
            "description_width": "",
            "_view_module": "@jupyter-widgets/base",
            "_model_module_version": "1.5.0",
            "_view_count": null,
            "_view_module_version": "1.2.0",
            "_model_module": "@jupyter-widgets/controls"
          }
        },
        "2a67a876f8014dab8313e1ff294914cf": {
          "model_module": "@jupyter-widgets/base",
          "model_name": "LayoutModel",
          "state": {
            "_view_name": "LayoutView",
            "grid_template_rows": null,
            "right": null,
            "justify_content": null,
            "_view_module": "@jupyter-widgets/base",
            "overflow": null,
            "_model_module_version": "1.2.0",
            "_view_count": null,
            "flex_flow": null,
            "width": null,
            "min_width": null,
            "border": null,
            "align_items": null,
            "bottom": null,
            "_model_module": "@jupyter-widgets/base",
            "top": null,
            "grid_column": null,
            "overflow_y": null,
            "overflow_x": null,
            "grid_auto_flow": null,
            "grid_area": null,
            "grid_template_columns": null,
            "flex": null,
            "_model_name": "LayoutModel",
            "justify_items": null,
            "grid_row": null,
            "max_height": null,
            "align_content": null,
            "visibility": null,
            "align_self": null,
            "height": null,
            "min_height": null,
            "padding": null,
            "grid_auto_rows": null,
            "grid_gap": null,
            "max_width": null,
            "order": null,
            "_view_module_version": "1.2.0",
            "grid_template_areas": null,
            "object_position": null,
            "object_fit": null,
            "grid_auto_columns": null,
            "margin": null,
            "display": null,
            "left": null
          }
        },
        "f562260f3e8242b39c8a62b21399e6ff": {
          "model_module": "@jupyter-widgets/controls",
          "model_name": "HBoxModel",
          "state": {
            "_view_name": "HBoxView",
            "_dom_classes": [],
            "_model_name": "HBoxModel",
            "_view_module": "@jupyter-widgets/controls",
            "_model_module_version": "1.5.0",
            "_view_count": null,
            "_view_module_version": "1.5.0",
            "box_style": "",
            "layout": "IPY_MODEL_c692bbb46101414085a476f1b2dfa5a1",
            "_model_module": "@jupyter-widgets/controls",
            "children": [
              "IPY_MODEL_1f06f55cdec54a618a38e811a7555bd4",
              "IPY_MODEL_781638d64d944833aaaa6860ee9df875"
            ]
          }
        },
        "c692bbb46101414085a476f1b2dfa5a1": {
          "model_module": "@jupyter-widgets/base",
          "model_name": "LayoutModel",
          "state": {
            "_view_name": "LayoutView",
            "grid_template_rows": null,
            "right": null,
            "justify_content": null,
            "_view_module": "@jupyter-widgets/base",
            "overflow": null,
            "_model_module_version": "1.2.0",
            "_view_count": null,
            "flex_flow": null,
            "width": null,
            "min_width": null,
            "border": null,
            "align_items": null,
            "bottom": null,
            "_model_module": "@jupyter-widgets/base",
            "top": null,
            "grid_column": null,
            "overflow_y": null,
            "overflow_x": null,
            "grid_auto_flow": null,
            "grid_area": null,
            "grid_template_columns": null,
            "flex": null,
            "_model_name": "LayoutModel",
            "justify_items": null,
            "grid_row": null,
            "max_height": null,
            "align_content": null,
            "visibility": null,
            "align_self": null,
            "height": null,
            "min_height": null,
            "padding": null,
            "grid_auto_rows": null,
            "grid_gap": null,
            "max_width": null,
            "order": null,
            "_view_module_version": "1.2.0",
            "grid_template_areas": null,
            "object_position": null,
            "object_fit": null,
            "grid_auto_columns": null,
            "margin": null,
            "display": null,
            "left": null
          }
        },
        "1f06f55cdec54a618a38e811a7555bd4": {
          "model_module": "@jupyter-widgets/controls",
          "model_name": "FloatProgressModel",
          "state": {
            "_view_name": "ProgressView",
            "style": "IPY_MODEL_75e12ee360944dda89be3e362b3d7707",
            "_dom_classes": [],
            "description": "Downloading: 100%",
            "_model_name": "FloatProgressModel",
            "bar_style": "success",
            "max": 440473133,
            "_view_module": "@jupyter-widgets/controls",
            "_model_module_version": "1.5.0",
            "value": 440473133,
            "_view_count": null,
            "_view_module_version": "1.5.0",
            "orientation": "horizontal",
            "min": 0,
            "description_tooltip": null,
            "_model_module": "@jupyter-widgets/controls",
            "layout": "IPY_MODEL_6367a8b2cd9a401486c93e7cc989968a"
          }
        },
        "781638d64d944833aaaa6860ee9df875": {
          "model_module": "@jupyter-widgets/controls",
          "model_name": "HTMLModel",
          "state": {
            "_view_name": "HTMLView",
            "style": "IPY_MODEL_6a34eae07069435b9cbc88d5086c5177",
            "_dom_classes": [],
            "description": "",
            "_model_name": "HTMLModel",
            "placeholder": "​",
            "_view_module": "@jupyter-widgets/controls",
            "_model_module_version": "1.5.0",
            "value": " 440M/440M [00:06&lt;00:00, 72.4MB/s]",
            "_view_count": null,
            "_view_module_version": "1.5.0",
            "description_tooltip": null,
            "_model_module": "@jupyter-widgets/controls",
            "layout": "IPY_MODEL_6021b9a7aa8247cbaca87b5a053c8e42"
          }
        },
        "75e12ee360944dda89be3e362b3d7707": {
          "model_module": "@jupyter-widgets/controls",
          "model_name": "ProgressStyleModel",
          "state": {
            "_view_name": "StyleView",
            "_model_name": "ProgressStyleModel",
            "description_width": "initial",
            "_view_module": "@jupyter-widgets/base",
            "_model_module_version": "1.5.0",
            "_view_count": null,
            "_view_module_version": "1.2.0",
            "bar_color": null,
            "_model_module": "@jupyter-widgets/controls"
          }
        },
        "6367a8b2cd9a401486c93e7cc989968a": {
          "model_module": "@jupyter-widgets/base",
          "model_name": "LayoutModel",
          "state": {
            "_view_name": "LayoutView",
            "grid_template_rows": null,
            "right": null,
            "justify_content": null,
            "_view_module": "@jupyter-widgets/base",
            "overflow": null,
            "_model_module_version": "1.2.0",
            "_view_count": null,
            "flex_flow": null,
            "width": null,
            "min_width": null,
            "border": null,
            "align_items": null,
            "bottom": null,
            "_model_module": "@jupyter-widgets/base",
            "top": null,
            "grid_column": null,
            "overflow_y": null,
            "overflow_x": null,
            "grid_auto_flow": null,
            "grid_area": null,
            "grid_template_columns": null,
            "flex": null,
            "_model_name": "LayoutModel",
            "justify_items": null,
            "grid_row": null,
            "max_height": null,
            "align_content": null,
            "visibility": null,
            "align_self": null,
            "height": null,
            "min_height": null,
            "padding": null,
            "grid_auto_rows": null,
            "grid_gap": null,
            "max_width": null,
            "order": null,
            "_view_module_version": "1.2.0",
            "grid_template_areas": null,
            "object_position": null,
            "object_fit": null,
            "grid_auto_columns": null,
            "margin": null,
            "display": null,
            "left": null
          }
        },
        "6a34eae07069435b9cbc88d5086c5177": {
          "model_module": "@jupyter-widgets/controls",
          "model_name": "DescriptionStyleModel",
          "state": {
            "_view_name": "StyleView",
            "_model_name": "DescriptionStyleModel",
            "description_width": "",
            "_view_module": "@jupyter-widgets/base",
            "_model_module_version": "1.5.0",
            "_view_count": null,
            "_view_module_version": "1.2.0",
            "_model_module": "@jupyter-widgets/controls"
          }
        },
        "6021b9a7aa8247cbaca87b5a053c8e42": {
          "model_module": "@jupyter-widgets/base",
          "model_name": "LayoutModel",
          "state": {
            "_view_name": "LayoutView",
            "grid_template_rows": null,
            "right": null,
            "justify_content": null,
            "_view_module": "@jupyter-widgets/base",
            "overflow": null,
            "_model_module_version": "1.2.0",
            "_view_count": null,
            "flex_flow": null,
            "width": null,
            "min_width": null,
            "border": null,
            "align_items": null,
            "bottom": null,
            "_model_module": "@jupyter-widgets/base",
            "top": null,
            "grid_column": null,
            "overflow_y": null,
            "overflow_x": null,
            "grid_auto_flow": null,
            "grid_area": null,
            "grid_template_columns": null,
            "flex": null,
            "_model_name": "LayoutModel",
            "justify_items": null,
            "grid_row": null,
            "max_height": null,
            "align_content": null,
            "visibility": null,
            "align_self": null,
            "height": null,
            "min_height": null,
            "padding": null,
            "grid_auto_rows": null,
            "grid_gap": null,
            "max_width": null,
            "order": null,
            "_view_module_version": "1.2.0",
            "grid_template_areas": null,
            "object_position": null,
            "object_fit": null,
            "grid_auto_columns": null,
            "margin": null,
            "display": null,
            "left": null
          }
        }
      }
    }
  },
  "cells": [
    {
      "cell_type": "code",
      "metadata": {
        "id": "aB0l83UXSzpy",
        "colab": {
          "base_uri": "https://localhost:8080/"
        },
        "outputId": "389122c7-5551-4212-fc5e-cbbf9e8a2a2c"
      },
      "source": [
        "!pip install transformers"
      ],
      "execution_count": 1,
      "outputs": [
        {
          "output_type": "stream",
          "text": [
            "Collecting transformers\n",
            "\u001b[?25l  Downloading https://files.pythonhosted.org/packages/3a/83/e74092e7f24a08d751aa59b37a9fc572b2e4af3918cb66f7766c3affb1b4/transformers-3.5.1-py3-none-any.whl (1.3MB)\n",
            "\r\u001b[K     |▎                               | 10kB 24.5MB/s eta 0:00:01\r\u001b[K     |▌                               | 20kB 32.9MB/s eta 0:00:01\r\u001b[K     |▊                               | 30kB 26.3MB/s eta 0:00:01\r\u001b[K     |█                               | 40kB 19.8MB/s eta 0:00:01\r\u001b[K     |█▎                              | 51kB 13.4MB/s eta 0:00:01\r\u001b[K     |█▌                              | 61kB 13.9MB/s eta 0:00:01\r\u001b[K     |█▊                              | 71kB 13.8MB/s eta 0:00:01\r\u001b[K     |██                              | 81kB 15.2MB/s eta 0:00:01\r\u001b[K     |██▎                             | 92kB 15.3MB/s eta 0:00:01\r\u001b[K     |██▌                             | 102kB 12.3MB/s eta 0:00:01\r\u001b[K     |██▊                             | 112kB 12.3MB/s eta 0:00:01\r\u001b[K     |███                             | 122kB 12.3MB/s eta 0:00:01\r\u001b[K     |███▎                            | 133kB 12.3MB/s eta 0:00:01\r\u001b[K     |███▌                            | 143kB 12.3MB/s eta 0:00:01\r\u001b[K     |███▉                            | 153kB 12.3MB/s eta 0:00:01\r\u001b[K     |████                            | 163kB 12.3MB/s eta 0:00:01\r\u001b[K     |████▎                           | 174kB 12.3MB/s eta 0:00:01\r\u001b[K     |████▌                           | 184kB 12.3MB/s eta 0:00:01\r\u001b[K     |████▉                           | 194kB 12.3MB/s eta 0:00:01\r\u001b[K     |█████                           | 204kB 12.3MB/s eta 0:00:01\r\u001b[K     |█████▎                          | 215kB 12.3MB/s eta 0:00:01\r\u001b[K     |█████▌                          | 225kB 12.3MB/s eta 0:00:01\r\u001b[K     |█████▉                          | 235kB 12.3MB/s eta 0:00:01\r\u001b[K     |██████                          | 245kB 12.3MB/s eta 0:00:01\r\u001b[K     |██████▎                         | 256kB 12.3MB/s eta 0:00:01\r\u001b[K     |██████▌                         | 266kB 12.3MB/s eta 0:00:01\r\u001b[K     |██████▉                         | 276kB 12.3MB/s eta 0:00:01\r\u001b[K     |███████                         | 286kB 12.3MB/s eta 0:00:01\r\u001b[K     |███████▎                        | 296kB 12.3MB/s eta 0:00:01\r\u001b[K     |███████▋                        | 307kB 12.3MB/s eta 0:00:01\r\u001b[K     |███████▉                        | 317kB 12.3MB/s eta 0:00:01\r\u001b[K     |████████                        | 327kB 12.3MB/s eta 0:00:01\r\u001b[K     |████████▎                       | 337kB 12.3MB/s eta 0:00:01\r\u001b[K     |████████▋                       | 348kB 12.3MB/s eta 0:00:01\r\u001b[K     |████████▉                       | 358kB 12.3MB/s eta 0:00:01\r\u001b[K     |█████████                       | 368kB 12.3MB/s eta 0:00:01\r\u001b[K     |█████████▎                      | 378kB 12.3MB/s eta 0:00:01\r\u001b[K     |█████████▋                      | 389kB 12.3MB/s eta 0:00:01\r\u001b[K     |█████████▉                      | 399kB 12.3MB/s eta 0:00:01\r\u001b[K     |██████████                      | 409kB 12.3MB/s eta 0:00:01\r\u001b[K     |██████████▎                     | 419kB 12.3MB/s eta 0:00:01\r\u001b[K     |██████████▋                     | 430kB 12.3MB/s eta 0:00:01\r\u001b[K     |██████████▉                     | 440kB 12.3MB/s eta 0:00:01\r\u001b[K     |███████████                     | 450kB 12.3MB/s eta 0:00:01\r\u001b[K     |███████████▍                    | 460kB 12.3MB/s eta 0:00:01\r\u001b[K     |███████████▋                    | 471kB 12.3MB/s eta 0:00:01\r\u001b[K     |███████████▉                    | 481kB 12.3MB/s eta 0:00:01\r\u001b[K     |████████████                    | 491kB 12.3MB/s eta 0:00:01\r\u001b[K     |████████████▍                   | 501kB 12.3MB/s eta 0:00:01\r\u001b[K     |████████████▋                   | 512kB 12.3MB/s eta 0:00:01\r\u001b[K     |████████████▉                   | 522kB 12.3MB/s eta 0:00:01\r\u001b[K     |█████████████                   | 532kB 12.3MB/s eta 0:00:01\r\u001b[K     |█████████████▍                  | 542kB 12.3MB/s eta 0:00:01\r\u001b[K     |█████████████▋                  | 552kB 12.3MB/s eta 0:00:01\r\u001b[K     |█████████████▉                  | 563kB 12.3MB/s eta 0:00:01\r\u001b[K     |██████████████                  | 573kB 12.3MB/s eta 0:00:01\r\u001b[K     |██████████████▍                 | 583kB 12.3MB/s eta 0:00:01\r\u001b[K     |██████████████▋                 | 593kB 12.3MB/s eta 0:00:01\r\u001b[K     |██████████████▉                 | 604kB 12.3MB/s eta 0:00:01\r\u001b[K     |███████████████▏                | 614kB 12.3MB/s eta 0:00:01\r\u001b[K     |███████████████▍                | 624kB 12.3MB/s eta 0:00:01\r\u001b[K     |███████████████▋                | 634kB 12.3MB/s eta 0:00:01\r\u001b[K     |███████████████▉                | 645kB 12.3MB/s eta 0:00:01\r\u001b[K     |████████████████▏               | 655kB 12.3MB/s eta 0:00:01\r\u001b[K     |████████████████▍               | 665kB 12.3MB/s eta 0:00:01\r\u001b[K     |████████████████▋               | 675kB 12.3MB/s eta 0:00:01\r\u001b[K     |████████████████▉               | 686kB 12.3MB/s eta 0:00:01\r\u001b[K     |█████████████████▏              | 696kB 12.3MB/s eta 0:00:01\r\u001b[K     |█████████████████▍              | 706kB 12.3MB/s eta 0:00:01\r\u001b[K     |█████████████████▋              | 716kB 12.3MB/s eta 0:00:01\r\u001b[K     |██████████████████              | 727kB 12.3MB/s eta 0:00:01\r\u001b[K     |██████████████████▏             | 737kB 12.3MB/s eta 0:00:01\r\u001b[K     |██████████████████▍             | 747kB 12.3MB/s eta 0:00:01\r\u001b[K     |██████████████████▋             | 757kB 12.3MB/s eta 0:00:01\r\u001b[K     |███████████████████             | 768kB 12.3MB/s eta 0:00:01\r\u001b[K     |███████████████████▏            | 778kB 12.3MB/s eta 0:00:01\r\u001b[K     |███████████████████▍            | 788kB 12.3MB/s eta 0:00:01\r\u001b[K     |███████████████████▋            | 798kB 12.3MB/s eta 0:00:01\r\u001b[K     |████████████████████            | 808kB 12.3MB/s eta 0:00:01\r\u001b[K     |████████████████████▏           | 819kB 12.3MB/s eta 0:00:01\r\u001b[K     |████████████████████▍           | 829kB 12.3MB/s eta 0:00:01\r\u001b[K     |████████████████████▋           | 839kB 12.3MB/s eta 0:00:01\r\u001b[K     |█████████████████████           | 849kB 12.3MB/s eta 0:00:01\r\u001b[K     |█████████████████████▏          | 860kB 12.3MB/s eta 0:00:01\r\u001b[K     |█████████████████████▍          | 870kB 12.3MB/s eta 0:00:01\r\u001b[K     |█████████████████████▊          | 880kB 12.3MB/s eta 0:00:01\r\u001b[K     |██████████████████████          | 890kB 12.3MB/s eta 0:00:01\r\u001b[K     |██████████████████████▏         | 901kB 12.3MB/s eta 0:00:01\r\u001b[K     |██████████████████████▍         | 911kB 12.3MB/s eta 0:00:01\r\u001b[K     |██████████████████████▊         | 921kB 12.3MB/s eta 0:00:01\r\u001b[K     |███████████████████████         | 931kB 12.3MB/s eta 0:00:01\r\u001b[K     |███████████████████████▏        | 942kB 12.3MB/s eta 0:00:01\r\u001b[K     |███████████████████████▍        | 952kB 12.3MB/s eta 0:00:01\r\u001b[K     |███████████████████████▊        | 962kB 12.3MB/s eta 0:00:01\r\u001b[K     |████████████████████████        | 972kB 12.3MB/s eta 0:00:01\r\u001b[K     |████████████████████████▏       | 983kB 12.3MB/s eta 0:00:01\r\u001b[K     |████████████████████████▍       | 993kB 12.3MB/s eta 0:00:01\r\u001b[K     |████████████████████████▊       | 1.0MB 12.3MB/s eta 0:00:01\r\u001b[K     |█████████████████████████       | 1.0MB 12.3MB/s eta 0:00:01\r\u001b[K     |█████████████████████████▏      | 1.0MB 12.3MB/s eta 0:00:01\r\u001b[K     |█████████████████████████▌      | 1.0MB 12.3MB/s eta 0:00:01\r\u001b[K     |█████████████████████████▊      | 1.0MB 12.3MB/s eta 0:00:01\r\u001b[K     |██████████████████████████      | 1.1MB 12.3MB/s eta 0:00:01\r\u001b[K     |██████████████████████████▏     | 1.1MB 12.3MB/s eta 0:00:01\r\u001b[K     |██████████████████████████▌     | 1.1MB 12.3MB/s eta 0:00:01\r\u001b[K     |██████████████████████████▊     | 1.1MB 12.3MB/s eta 0:00:01\r\u001b[K     |███████████████████████████     | 1.1MB 12.3MB/s eta 0:00:01\r\u001b[K     |███████████████████████████▏    | 1.1MB 12.3MB/s eta 0:00:01\r\u001b[K     |███████████████████████████▌    | 1.1MB 12.3MB/s eta 0:00:01\r\u001b[K     |███████████████████████████▊    | 1.1MB 12.3MB/s eta 0:00:01\r\u001b[K     |████████████████████████████    | 1.1MB 12.3MB/s eta 0:00:01\r\u001b[K     |████████████████████████████▏   | 1.1MB 12.3MB/s eta 0:00:01\r\u001b[K     |████████████████████████████▌   | 1.2MB 12.3MB/s eta 0:00:01\r\u001b[K     |████████████████████████████▊   | 1.2MB 12.3MB/s eta 0:00:01\r\u001b[K     |█████████████████████████████   | 1.2MB 12.3MB/s eta 0:00:01\r\u001b[K     |█████████████████████████████▎  | 1.2MB 12.3MB/s eta 0:00:01\r\u001b[K     |█████████████████████████████▌  | 1.2MB 12.3MB/s eta 0:00:01\r\u001b[K     |█████████████████████████████▊  | 1.2MB 12.3MB/s eta 0:00:01\r\u001b[K     |██████████████████████████████  | 1.2MB 12.3MB/s eta 0:00:01\r\u001b[K     |██████████████████████████████▎ | 1.2MB 12.3MB/s eta 0:00:01\r\u001b[K     |██████████████████████████████▌ | 1.2MB 12.3MB/s eta 0:00:01\r\u001b[K     |██████████████████████████████▊ | 1.2MB 12.3MB/s eta 0:00:01\r\u001b[K     |███████████████████████████████ | 1.3MB 12.3MB/s eta 0:00:01\r\u001b[K     |███████████████████████████████▎| 1.3MB 12.3MB/s eta 0:00:01\r\u001b[K     |███████████████████████████████▌| 1.3MB 12.3MB/s eta 0:00:01\r\u001b[K     |███████████████████████████████▊| 1.3MB 12.3MB/s eta 0:00:01\r\u001b[K     |████████████████████████████████| 1.3MB 12.3MB/s eta 0:00:01\r\u001b[K     |████████████████████████████████| 1.3MB 12.3MB/s \n",
            "\u001b[?25hRequirement already satisfied: dataclasses; python_version < \"3.7\" in /usr/local/lib/python3.6/dist-packages (from transformers) (0.7)\n",
            "Requirement already satisfied: packaging in /usr/local/lib/python3.6/dist-packages (from transformers) (20.4)\n",
            "Requirement already satisfied: requests in /usr/local/lib/python3.6/dist-packages (from transformers) (2.23.0)\n",
            "Requirement already satisfied: numpy in /usr/local/lib/python3.6/dist-packages (from transformers) (1.18.5)\n",
            "Requirement already satisfied: tqdm>=4.27 in /usr/local/lib/python3.6/dist-packages (from transformers) (4.41.1)\n",
            "Requirement already satisfied: protobuf in /usr/local/lib/python3.6/dist-packages (from transformers) (3.12.4)\n",
            "Collecting sentencepiece==0.1.91\n",
            "\u001b[?25l  Downloading https://files.pythonhosted.org/packages/d4/a4/d0a884c4300004a78cca907a6ff9a5e9fe4f090f5d95ab341c53d28cbc58/sentencepiece-0.1.91-cp36-cp36m-manylinux1_x86_64.whl (1.1MB)\n",
            "\u001b[K     |████████████████████████████████| 1.1MB 53.4MB/s \n",
            "\u001b[?25hCollecting sacremoses\n",
            "\u001b[?25l  Downloading https://files.pythonhosted.org/packages/7d/34/09d19aff26edcc8eb2a01bed8e98f13a1537005d31e95233fd48216eed10/sacremoses-0.0.43.tar.gz (883kB)\n",
            "\u001b[K     |████████████████████████████████| 890kB 56.4MB/s \n",
            "\u001b[?25hCollecting tokenizers==0.9.3\n",
            "\u001b[?25l  Downloading https://files.pythonhosted.org/packages/4c/34/b39eb9994bc3c999270b69c9eea40ecc6f0e97991dba28282b9fd32d44ee/tokenizers-0.9.3-cp36-cp36m-manylinux1_x86_64.whl (2.9MB)\n",
            "\u001b[K     |████████████████████████████████| 2.9MB 57.7MB/s \n",
            "\u001b[?25hRequirement already satisfied: regex!=2019.12.17 in /usr/local/lib/python3.6/dist-packages (from transformers) (2019.12.20)\n",
            "Requirement already satisfied: filelock in /usr/local/lib/python3.6/dist-packages (from transformers) (3.0.12)\n",
            "Requirement already satisfied: pyparsing>=2.0.2 in /usr/local/lib/python3.6/dist-packages (from packaging->transformers) (2.4.7)\n",
            "Requirement already satisfied: six in /usr/local/lib/python3.6/dist-packages (from packaging->transformers) (1.15.0)\n",
            "Requirement already satisfied: idna<3,>=2.5 in /usr/local/lib/python3.6/dist-packages (from requests->transformers) (2.10)\n",
            "Requirement already satisfied: urllib3!=1.25.0,!=1.25.1,<1.26,>=1.21.1 in /usr/local/lib/python3.6/dist-packages (from requests->transformers) (1.24.3)\n",
            "Requirement already satisfied: certifi>=2017.4.17 in /usr/local/lib/python3.6/dist-packages (from requests->transformers) (2020.6.20)\n",
            "Requirement already satisfied: chardet<4,>=3.0.2 in /usr/local/lib/python3.6/dist-packages (from requests->transformers) (3.0.4)\n",
            "Requirement already satisfied: setuptools in /usr/local/lib/python3.6/dist-packages (from protobuf->transformers) (50.3.2)\n",
            "Requirement already satisfied: click in /usr/local/lib/python3.6/dist-packages (from sacremoses->transformers) (7.1.2)\n",
            "Requirement already satisfied: joblib in /usr/local/lib/python3.6/dist-packages (from sacremoses->transformers) (0.17.0)\n",
            "Building wheels for collected packages: sacremoses\n",
            "  Building wheel for sacremoses (setup.py) ... \u001b[?25l\u001b[?25hdone\n",
            "  Created wheel for sacremoses: filename=sacremoses-0.0.43-cp36-none-any.whl size=893257 sha256=13be446e8e9dbafc6870528ebb6b4eb7501f00c549438785dbe951f97eec7965\n",
            "  Stored in directory: /root/.cache/pip/wheels/29/3c/fd/7ce5c3f0666dab31a50123635e6fb5e19ceb42ce38d4e58f45\n",
            "Successfully built sacremoses\n",
            "Installing collected packages: sentencepiece, sacremoses, tokenizers, transformers\n",
            "Successfully installed sacremoses-0.0.43 sentencepiece-0.1.91 tokenizers-0.9.3 transformers-3.5.1\n"
          ],
          "name": "stdout"
        }
      ]
    },
    {
      "cell_type": "code",
      "metadata": {
        "id": "kAD6S2mCSZer",
        "colab": {
          "resources": {
            "http://localhost:8080/nbextensions/google.colab/files.js": {
              "data": "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",
              "ok": true,
              "headers": [
                [
                  "content-type",
                  "application/javascript"
                ]
              ],
              "status": 200,
              "status_text": ""
            }
          },
          "base_uri": "https://localhost:8080/",
          "height": 129
        },
        "outputId": "11353990-17a6-46ae-9efb-992d2de13951"
      },
      "source": [
        "# imports\n",
        "import torch\n",
        "from torch import nn\n",
        "from transformers import AutoTokenizer, AutoModelWithLMHead\n",
        "from matplotlib import pyplot as plt\n",
        "\n",
        "from google.colab import files\n",
        "files.upload()  # load dataGeneration.py\n",
        "files.upload()  # load waypointNet.py\n",
        "from dataGeneration import generateTestBatch\n",
        "from waypointNet import WaypointNet, listToTensor"
      ],
      "execution_count": 2,
      "outputs": [
        {
          "output_type": "display_data",
          "data": {
            "text/html": [
              "\n",
              "     <input type=\"file\" id=\"files-64457ec7-e472-44ef-a743-b63125dc3447\" name=\"files[]\" multiple disabled\n",
              "        style=\"border:none\" />\n",
              "     <output id=\"result-64457ec7-e472-44ef-a743-b63125dc3447\">\n",
              "      Upload widget is only available when the cell has been executed in the\n",
              "      current browser session. Please rerun this cell to enable.\n",
              "      </output>\n",
              "      <script src=\"/nbextensions/google.colab/files.js\"></script> "
            ],
            "text/plain": [
              "<IPython.core.display.HTML object>"
            ]
          },
          "metadata": {
            "tags": []
          }
        },
        {
          "output_type": "stream",
          "text": [
            "Saving dataGeneration.py to dataGeneration.py\n"
          ],
          "name": "stdout"
        },
        {
          "output_type": "display_data",
          "data": {
            "text/html": [
              "\n",
              "     <input type=\"file\" id=\"files-89485c31-b27f-4d23-8ca5-cda6700ef0a9\" name=\"files[]\" multiple disabled\n",
              "        style=\"border:none\" />\n",
              "     <output id=\"result-89485c31-b27f-4d23-8ca5-cda6700ef0a9\">\n",
              "      Upload widget is only available when the cell has been executed in the\n",
              "      current browser session. Please rerun this cell to enable.\n",
              "      </output>\n",
              "      <script src=\"/nbextensions/google.colab/files.js\"></script> "
            ],
            "text/plain": [
              "<IPython.core.display.HTML object>"
            ]
          },
          "metadata": {
            "tags": []
          }
        },
        {
          "output_type": "stream",
          "text": [
            "Saving waypointNet.py to waypointNet.py\n"
          ],
          "name": "stdout"
        }
      ]
    },
    {
      "cell_type": "code",
      "metadata": {
        "id": "FTdV5rzvT9xd",
        "colab": {
          "base_uri": "https://localhost:8080/",
          "height": 275,
          "referenced_widgets": [
            "de9bd0b623b34e58a4fcd276c9481d7b",
            "3b5868e6c08a4b09baedf0a3928a8974",
            "c61e551952504cc7bce2453e62e95dbd",
            "87b53ca7f04c44a69527cb5f4122cd57",
            "da33cc95e718443aaa7a46424531f824",
            "1d78995e3f8b4a61b748a5b2c41a4838",
            "190be7dcc83346b5ac4de38c5fda9247",
            "174bcd07e9c24f83baf8e70e728c1507",
            "d108d340e70847b1bc824fa79a5f70d2",
            "dfbc55568f1b4f09a1c600e29c3df345",
            "8ff0b92a0fe94925aaec074c40b65ed8",
            "dd9f04b4289242baa19f8795d9467d1c",
            "df20aad6ab934e728aadcbf16e548b3c",
            "7f58d5fa6efe49c39486a541a04abd17",
            "484a8cc31fee4bf0ad5cd3db1bfd2e94",
            "2a67a876f8014dab8313e1ff294914cf",
            "f562260f3e8242b39c8a62b21399e6ff",
            "c692bbb46101414085a476f1b2dfa5a1",
            "1f06f55cdec54a618a38e811a7555bd4",
            "781638d64d944833aaaa6860ee9df875",
            "75e12ee360944dda89be3e362b3d7707",
            "6367a8b2cd9a401486c93e7cc989968a",
            "6a34eae07069435b9cbc88d5086c5177",
            "6021b9a7aa8247cbaca87b5a053c8e42"
          ]
        },
        "outputId": "0cebaf2c-4d68-47cb-a167-7bc65c50a8e9"
      },
      "source": [
        "# import the pretrained models\n",
        "tokenizer = AutoTokenizer.from_pretrained(\"bert-base-uncased\")\n",
        "model = AutoModelWithLMHead.from_pretrained(\"bert-base-uncased\")"
      ],
      "execution_count": 3,
      "outputs": [
        {
          "output_type": "display_data",
          "data": {
            "application/vnd.jupyter.widget-view+json": {
              "model_id": "de9bd0b623b34e58a4fcd276c9481d7b",
              "version_minor": 0,
              "version_major": 2
            },
            "text/plain": [
              "HBox(children=(FloatProgress(value=0.0, description='Downloading', max=433.0, style=ProgressStyle(description_…"
            ]
          },
          "metadata": {
            "tags": []
          }
        },
        {
          "output_type": "stream",
          "text": [
            "\n"
          ],
          "name": "stdout"
        },
        {
          "output_type": "display_data",
          "data": {
            "application/vnd.jupyter.widget-view+json": {
              "model_id": "d108d340e70847b1bc824fa79a5f70d2",
              "version_minor": 0,
              "version_major": 2
            },
            "text/plain": [
              "HBox(children=(FloatProgress(value=0.0, description='Downloading', max=231508.0, style=ProgressStyle(descripti…"
            ]
          },
          "metadata": {
            "tags": []
          }
        },
        {
          "output_type": "stream",
          "text": [
            "\n"
          ],
          "name": "stdout"
        },
        {
          "output_type": "stream",
          "text": [
            "/usr/local/lib/python3.6/dist-packages/transformers/modeling_auto.py:837: FutureWarning: The class `AutoModelWithLMHead` is deprecated and will be removed in a future version. Please use `AutoModelForCausalLM` for causal language models, `AutoModelForMaskedLM` for masked language models and `AutoModelForSeq2SeqLM` for encoder-decoder models.\n",
            "  FutureWarning,\n"
          ],
          "name": "stderr"
        },
        {
          "output_type": "display_data",
          "data": {
            "application/vnd.jupyter.widget-view+json": {
              "model_id": "f562260f3e8242b39c8a62b21399e6ff",
              "version_minor": 0,
              "version_major": 2
            },
            "text/plain": [
              "HBox(children=(FloatProgress(value=0.0, description='Downloading', max=440473133.0, style=ProgressStyle(descri…"
            ]
          },
          "metadata": {
            "tags": []
          }
        },
        {
          "output_type": "stream",
          "text": [
            "\n"
          ],
          "name": "stdout"
        },
        {
          "output_type": "stream",
          "text": [
            "Some weights of the model checkpoint at bert-base-uncased were not used when initializing BertForMaskedLM: ['cls.seq_relationship.weight', 'cls.seq_relationship.bias']\n",
            "- This IS expected if you are initializing BertForMaskedLM from the checkpoint of a model trained on another task or with another architecture (e.g. initializing a BertForSequenceClassification model from a BertForPreTraining model).\n",
            "- This IS NOT expected if you are initializing BertForMaskedLM from the checkpoint of a model that you expect to be exactly identical (initializing a BertForSequenceClassification model from a BertForSequenceClassification model).\n"
          ],
          "name": "stderr"
        }
      ]
    },
    {
      "cell_type": "code",
      "metadata": {
        "id": "eIUDgUFaSmG0",
        "colab": {
          "base_uri": "https://localhost:8080/"
        },
        "outputId": "3d43bb22-0dd6-4027-8eab-9472c70bdcdd"
      },
      "source": [
        "# investigating BERT model output size\n",
        "baseModel = model.bert\n",
        "\n",
        "sampleBatch = [\"go forward three meters\", \"turn right\", \"go right 1 meter\"]\n",
        "enc = tokenizer.batch_encode_plus(sampleBatch)\n",
        "X = listToTensor(enc[\"input_ids\"])\n",
        "attn = listToTensor(enc[\"attention_mask\"])\n",
        "\n",
        "out = baseModel(X, attn)\n",
        "print(out[0].shape)\n",
        "print(\"Batch size, length of tokenized text, model output size\\n\")"
      ],
      "execution_count": 5,
      "outputs": [
        {
          "output_type": "stream",
          "text": [
            "torch.Size([3, 6, 768])\n",
            "Batch size, length of tokenized text, model output size\n",
            "\n"
          ],
          "name": "stdout"
        }
      ]
    },
    {
      "cell_type": "code",
      "metadata": {
        "id": "Vo6gbwx6Ylvt",
        "colab": {
          "base_uri": "https://localhost:8080/",
          "height": 1000
        },
        "outputId": "3fb9afa2-82b9-45c0-83b2-3666b3ef4db1"
      },
      "source": [
        "# training model\n",
        "if torch.cuda.is_available():  \n",
        "  device = torch.device(\"cuda:0\") \n",
        "else:  \n",
        "  device = torch.device(\"cpu\")\n",
        "print(device)\n",
        "\n",
        "net = WaypointNet(baseModel)\n",
        "net = net.to(device=device)\n",
        "criterion = nn.MSELoss()\n",
        "optimizer = torch.optim.SGD(net.parameters(), lr=0.0001, momentum=0.9)\n",
        "objectiveValues = []\n",
        "\n",
        "# each epoch is a newly generated batch of test data\n",
        "for epoch in range(500):\n",
        "  text, labels = generateTestBatch(1000)\n",
        "  labels = torch.tensor(labels, dtype = torch.float)\n",
        "  enc = tokenizer.batch_encode_plus(text)\n",
        "  X = listToTensor(enc[\"input_ids\"])\n",
        "  attn = listToTensor(enc[\"attention_mask\"])\n",
        "\n",
        "  X = X.to(device)\n",
        "  attn = attn.to(device)\n",
        "  labels = labels.to(device)\n",
        "\n",
        "  # zero the parameter gradients\n",
        "  optimizer.zero_grad()\n",
        "\n",
        "  # forward + backward + optimize\n",
        "  outputs = net((X, attn))\n",
        "  loss = criterion(outputs, labels)\n",
        "  loss.backward()\n",
        "  optimizer.step()\n",
        "\n",
        "  # print statistics\n",
        "  if ((epoch + 1) % 10 == 0):\n",
        "    print('[%d] loss: %.3f' % (epoch + 1, loss.item()))\n",
        "  objectiveValues.append(loss.item())\n",
        "\n",
        "plt.plot(objectiveValues)"
      ],
      "execution_count": 7,
      "outputs": [
        {
          "output_type": "stream",
          "text": [
            "cuda:0\n",
            "[10] loss: 4.703\n",
            "[20] loss: 3.998\n",
            "[30] loss: 2.893\n",
            "[40] loss: 2.655\n",
            "[50] loss: 2.497\n",
            "[60] loss: 2.273\n",
            "[70] loss: 1.829\n",
            "[80] loss: 1.789\n",
            "[90] loss: 1.492\n",
            "[100] loss: 1.568\n",
            "[110] loss: 1.361\n",
            "[120] loss: 1.099\n",
            "[130] loss: 0.972\n",
            "[140] loss: 0.807\n",
            "[150] loss: 0.776\n",
            "[160] loss: 0.695\n",
            "[170] loss: 0.627\n",
            "[180] loss: 0.554\n",
            "[190] loss: 0.465\n",
            "[200] loss: 0.452\n",
            "[210] loss: 0.369\n",
            "[220] loss: 0.385\n",
            "[230] loss: 0.363\n",
            "[240] loss: 0.305\n",
            "[250] loss: 0.335\n",
            "[260] loss: 0.293\n",
            "[270] loss: 0.308\n",
            "[280] loss: 0.291\n",
            "[290] loss: 0.263\n",
            "[300] loss: 0.232\n",
            "[310] loss: 0.245\n",
            "[320] loss: 0.264\n",
            "[330] loss: 0.227\n",
            "[340] loss: 0.286\n",
            "[350] loss: 0.207\n",
            "[360] loss: 0.239\n",
            "[370] loss: 0.211\n",
            "[380] loss: 0.179\n",
            "[390] loss: 0.187\n",
            "[400] loss: 0.173\n",
            "[410] loss: 0.216\n",
            "[420] loss: 0.167\n",
            "[430] loss: 0.208\n",
            "[440] loss: 0.155\n",
            "[450] loss: 0.157\n",
            "[460] loss: 0.143\n",
            "[470] loss: 0.155\n",
            "[480] loss: 0.157\n",
            "[490] loss: 0.125\n",
            "[500] loss: 0.153\n"
          ],
          "name": "stdout"
        },
        {
          "output_type": "execute_result",
          "data": {
            "text/plain": [
              "[<matplotlib.lines.Line2D at 0x7fe29c9d8898>]"
            ]
          },
          "metadata": {
            "tags": []
          },
          "execution_count": 7
        },
        {
          "output_type": "display_data",
          "data": {
            "image/png": "[encoded data removed]",
            "text/plain": [
              "<Figure size 432x288 with 1 Axes>"
            ]
          },
          "metadata": {
            "tags": [],
            "needs_background": "light"
          }
        }
      ]
    },
    {
      "cell_type": "code",
      "metadata": {
        "id": "k7sWiuJILp1_"
      },
      "source": [
        "# save model\n",
        "torch.save(net.state_dict(), \"waypointBERT.pth\")\n",
        "files.download(\"waypointBERT.pth\")"
      ],
      "execution_count": null,
      "outputs": []
    }
  ]
}