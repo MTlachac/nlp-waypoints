{
  "nbformat": 4,
  "nbformat_minor": 0,
  "metadata": {
    "colab": {
      "name": "SentenceSplitting.ipynb",
      "provenance": []
    },
    "kernelspec": {
      "name": "python3",
      "display_name": "Python 3"
    }
  },
  "cells": [
    {
      "cell_type": "markdown",
      "metadata": {
        "id": "ncQmV9nBsr-A"
      },
      "source": [
        "imports"
      ]
    },
    {
      "cell_type": "code",
      "metadata": {
        "id": "wriQEnRqsowg"
      },
      "source": [
        "#import nltk # I could just do split"
      ],
      "execution_count": null,
      "outputs": []
    },
    {
      "cell_type": "code",
      "metadata": {
        "id": "c0lYnG6usv6Y"
      },
      "source": [
        "def separate(sentence):\n",
        "  #takes in a sentence, splits it into the subsentences\n",
        "  tokens = sentence.split() # or  nltk.word_tokenize(sentence)\n",
        "  current = []\n",
        "  sentences = []\n",
        "  for i, word in enumerate(tokens, 0):\n",
        "    if word in [\"then\", \"followed by\"]:\n",
        "      sentences.append(' '.join(current))\n",
        "      current = []\n",
        "    elif word == \"and\" and tokens[i+1] in ['a', 'an', 'one', 'two', 'three', 'four', 'five', 'six', 'seven', 'eight', 'nine']:\n",
        "      sentences.append(' '.join(current))\n",
        "      current = []\n",
        "    else:\n",
        "      current.append(word)\n",
        "    sentences.append(' '.join(current))\n",
        "    return sentences\n"
      ],
      "execution_count": 2,
      "outputs": []
    },
    {
      "cell_type": "markdown",
      "metadata": {
        "id": "Ylkj9ZsXsjDS"
      },
      "source": [
        ""
      ]
    }
  ]
}